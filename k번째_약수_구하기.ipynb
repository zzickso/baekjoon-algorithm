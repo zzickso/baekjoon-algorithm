{
  "nbformat": 4,
  "nbformat_minor": 0,
  "metadata": {
    "colab": {
      "name": "k번째 약수 구하기",
      "provenance": [],
      "authorship_tag": "ABX9TyPAMEcvPZd8yZBldpUvI5/U",
      "include_colab_link": true
    },
    "kernelspec": {
      "name": "python3",
      "display_name": "Python 3"
    },
    "language_info": {
      "name": "python"
    }
  },
  "cells": [
    {
      "cell_type": "markdown",
      "metadata": {
        "id": "view-in-github",
        "colab_type": "text"
      },
      "source": [
        "<a href=\"https://colab.research.google.com/github/zzickso/baekjoon-algorithm/blob/main/k%EB%B2%88%EC%A7%B8_%EC%95%BD%EC%88%98_%EA%B5%AC%ED%95%98%EA%B8%B0.ipynb\" target=\"_parent\"><img src=\"https://colab.research.google.com/assets/colab-badge.svg\" alt=\"Open In Colab\"/></a>"
      ]
    },
    {
      "cell_type": "code",
      "metadata": {
        "id": "fi8gyQCzbgcg"
      },
      "source": [
        "a=[]\n",
        "\n",
        "def w(n, k):\n",
        "    try:\n",
        "        for i in range(1,n+1):\n",
        "            if n%i == 0:\n",
        "                a.append(i)\n",
        "        return a[k-1]\n",
        "    except IndexError:\n",
        "        return -1\n",
        "        \n",
        "\n",
        "\n"
      ],
      "execution_count": null,
      "outputs": []
    },
    {
      "cell_type": "code",
      "metadata": {
        "colab": {
          "base_uri": "https://localhost:8080/"
        },
        "id": "FF1Zij3OeEJk",
        "outputId": "6b47a4d2-c0c7-4a82-ba0a-f95ad0c0970f"
      },
      "source": [
        "w(6,3)"
      ],
      "execution_count": null,
      "outputs": [
        {
          "output_type": "execute_result",
          "data": {
            "text/plain": [
              "3"
            ]
          },
          "metadata": {
            "tags": []
          },
          "execution_count": 32
        }
      ]
    },
    {
      "cell_type": "code",
      "metadata": {
        "colab": {
          "base_uri": "https://localhost:8080/"
        },
        "id": "pzPpseAhk_SP",
        "outputId": "26413fbe-e416-4612-b06c-da695f9f173c"
      },
      "source": [
        "while True:\n",
        "    try:\n",
        "        N = int(input('숫자 : '))\n",
        "    except:\n",
        "        print('N은 숫자')\n",
        "        continue\n",
        "    if N > 10000:\n",
        "        print('N은 10000이하')\n",
        "        continue\n",
        "    try:\n",
        "        K = int(input('약수 : '))\n",
        "    except:\n",
        "        print('N은 숫자')\n",
        "        continue\n",
        "    if K > N:\n",
        "        print('N이 K보다 큼')\n",
        "        continue\n",
        "    result = []\n",
        "    for i in range(1, N+1):\n",
        "        if N % i == 0:\n",
        "            result.append(i)\n",
        "    if K > len(result):\n",
        "        print(-1)\n",
        "        break\n",
        "    print(result[K-1])\n",
        "    break"
      ],
      "execution_count": null,
      "outputs": [
        {
          "output_type": "stream",
          "text": [
            "숫자 : 3\n",
            "약수 : 1\n",
            "1\n"
          ],
          "name": "stdout"
        }
      ]
    },
    {
      "cell_type": "code",
      "metadata": {
        "id": "F65X8WEKupIL"
      },
      "source": [
        "# p 는 약수\n",
        "# n 는 그냥수\n",
        "# 입력 : N,K\n",
        "# 출력 : N의 약수들 중 K번째로 작은 수를 출력\n",
        "# *******************************************************\n",
        "# 출력 : N의 약수들 중 K번째로 작은 수를 출력하는 함수\n",
        "def print_measure_Kth(n,k):\n",
        "  p = [] # 약수의 집합을 저장할 리스트 초기화\n",
        "  # P 리스트 만드는 작업\n",
        "  for i in range(1,n+1):\n",
        "    # i 가 n의 약수이면 p리스트에 추가\n",
        "    if n % i == 0:\n",
        "      p.append(i)\n",
        "  # n의 약수중 k번째 작은 값 출력\n",
        "    # k 번째 약수가 존재하지 않으면 -1을 출력하라\n",
        "  if len(p) < k:\n",
        "    print(-1)\n",
        "  else :\n",
        "    print(p[k-1])\n",
        "# if __name__ == \"__main__\":\n",
        "#   n = -1\n",
        "#   k = -1\n",
        "#   # 예외 처리\n",
        "#   while n<1 or n>10000:\n",
        "#     print('n>1 이고 n<10000 인 조건의 자연수를 입력하시오')\n",
        "#     n,k = map(int,input().split())\n",
        "#   # 위에 만든 함수 실행\n",
        "#   print_measure_Kth(n,k)"
      ],
      "execution_count": null,
      "outputs": []
    },
    {
      "cell_type": "code",
      "metadata": {
        "colab": {
          "base_uri": "https://localhost:8080/"
        },
        "id": "ihHPdvNRutmD",
        "outputId": "8b7037a9-ad2e-489b-8ce7-14b34fcd798a"
      },
      "source": [
        "print_measure_Kth(6,3)"
      ],
      "execution_count": null,
      "outputs": [
        {
          "output_type": "stream",
          "text": [
            "3\n"
          ],
          "name": "stdout"
        }
      ]
    },
    {
      "cell_type": "code",
      "metadata": {
        "id": "JgO47q_yxZf2"
      },
      "source": [
        ""
      ],
      "execution_count": null,
      "outputs": []
    }
  ]
}