{
  "nbformat": 4,
  "nbformat_minor": 0,
  "metadata": {
    "colab": {
      "name": "퇴사(14501)",
      "provenance": [],
      "authorship_tag": "ABX9TyNX/m3dD6+jlHKsRYCwUA1G",
      "include_colab_link": true
    },
    "kernelspec": {
      "name": "python3",
      "display_name": "Python 3"
    },
    "language_info": {
      "name": "python"
    }
  },
  "cells": [
    {
      "cell_type": "markdown",
      "metadata": {
        "id": "view-in-github",
        "colab_type": "text"
      },
      "source": [
        "<a href=\"https://colab.research.google.com/github/zzickso/baekjoon-algorithm/blob/main/%ED%87%B4%EC%82%AC(14501).ipynb\" target=\"_parent\"><img src=\"https://colab.research.google.com/assets/colab-badge.svg\" alt=\"Open In Colab\"/></a>"
      ]
    },
    {
      "cell_type": "code",
      "metadata": {
        "id": "x8pXO-66xi5Z"
      },
      "source": [
        "N = int(input())\n",
        "work_pay = []\n",
        "max_pay = [0] * N\n",
        "\n",
        "for _ in range(N):\n",
        "    work_pay.append(list(map(int, input().split())))\n",
        "   \n",
        "for i in range(N-1, -1, -1): #뒤에서부터  다이나믹 프로그래밍\n",
        "    day = work_pay[i][0]\n",
        "    pay = work_pay[i][1]\n",
        "    \n",
        "    if day > N - i: #남은 기간보다 상담일이 길 경우\n",
        "        if i != N-1:  \n",
        "            max_pay[i] = max_pay[i+1] #이전 최댓값 저장\n",
        "        continue\n",
        "        \n",
        "    if i == N-1: #마지막 날 하루짜리 상담\n",
        "        max_pay[i] = pay \n",
        "    elif i + day == N: #현재 일을 시작하면 정확히 마지막에 끝나는 경우\n",
        "        max_pay[i] = max(pay, max_pay[i+1])\n",
        "    else:\n",
        "        #현재 일을 맡을 경우 or 맡지 않을 경우\n",
        "        max_pay[i] = max(pay + max_pay[i + day], max_pay[i+1])\n",
        "        \n",
        "print(max_pay[0]) "
      ],
      "execution_count": null,
      "outputs": []
    },
    {
      "cell_type": "code",
      "metadata": {
        "id": "lao4HMYVxkFr"
      },
      "source": [
        ""
      ],
      "execution_count": null,
      "outputs": []
    }
  ]
}